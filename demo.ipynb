{
  "nbformat": 4,
  "nbformat_minor": 0,
  "metadata": {
    "colab": {
      "name": "demo.ipynb",
      "provenance": [],
      "collapsed_sections": [],
      "authorship_tag": "ABX9TyMUorfzwbbZxygf+VEaod6e",
      "include_colab_link": true
    },
    "kernelspec": {
      "name": "python3",
      "display_name": "Python 3"
    }
  },
  "cells": [
    {
      "cell_type": "markdown",
      "metadata": {
        "id": "view-in-github",
        "colab_type": "text"
      },
      "source": [
        "<a href=\"https://colab.research.google.com/github/BOSSDAI/new-respository-for-ece-590-24/blob/master/demo.ipynb\" target=\"_parent\"><img src=\"https://colab.research.google.com/assets/colab-badge.svg\" alt=\"Open In Colab\"/></a>"
      ]
    },
    {
      "cell_type": "code",
      "metadata": {
        "id": "Xt6NA9KbxS6v",
        "colab_type": "code",
        "colab": {}
      },
      "source": [
        ""
      ],
      "execution_count": 0,
      "outputs": []
    },
    {
      "cell_type": "markdown",
      "metadata": {
        "id": "sZRvMs7lxWbr",
        "colab_type": "text"
      },
      "source": [
        "In this on-class assignemt, we learn how to make a new notebook in colab and sent it to github. We can also use slack for sharing"
      ]
    },
    {
      "cell_type": "code",
      "metadata": {
        "id": "AZsQDvkyxt0Q",
        "colab_type": "code",
        "colab": {
          "base_uri": "https://localhost:8080/",
          "height": 34
        },
        "outputId": "3cc35069-7966-4516-9390-5ee2a2ac436b"
      },
      "source": [
        "print(\"Hello world of ECE 590-24\")"
      ],
      "execution_count": 1,
      "outputs": [
        {
          "output_type": "stream",
          "text": [
            "Hello world of ECE 590-24\n"
          ],
          "name": "stdout"
        }
      ]
    }
  ]
}